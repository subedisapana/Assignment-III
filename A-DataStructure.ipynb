{
 "cells": [
  {
   "cell_type": "code",
   "execution_count": 2,
   "metadata": {},
   "outputs": [
    {
     "name": "stdout",
     "output_type": "stream",
     "text": [
      "a= [2, 5, 3, 88, 0, 9, 8]\n",
      "sorted_a = [0, 2, 3, 5, 8, 9, 88]\n"
     ]
    }
   ],
   "source": [
    "#a) Bubble Sort\n",
    "\n",
    "def bubble_sort(a):\n",
    "    for i in range(len(a)):# from index 0 to 6\n",
    "        for j in range(len(a)-1): #j=0,1,2,3,4,0,1,2,3,0,1,2,0,1\n",
    "            if a[j]> a[j+1]: \n",
    "                a[j], a[j+1] = a[j+1], a[j]  #swap\n",
    "                \n",
    "                \n",
    " \n",
    "a=[2, 5, 3, 88, 0, 9, 8]\n",
    "print(\"a=\", a)\n",
    "bubble_sort(a)\n",
    "\n",
    "print (\"sorted_a =\",a)"
   ]
  },
  {
   "cell_type": "code",
   "execution_count": 3,
   "metadata": {},
   "outputs": [
    {
     "name": "stdout",
     "output_type": "stream",
     "text": [
      "Sorted array: [0, 2, 3, 5, 8, 9]\n"
     ]
    }
   ],
   "source": [
    "# b Insertion Sort\n",
    "\n",
    "def insertion_sort(a):\n",
    "    \n",
    "    for i in range(len(a)):\n",
    "        value = a[i]\n",
    "        currentindex = i\n",
    "    \n",
    "        while currentindex > 0 and a[currentindex - 1] > value:\n",
    "            a[currentindex] = a[currentindex -1]\n",
    "            currentindex = currentindex - 1\n",
    "            a[currentindex] = value\n",
    "            \n",
    "a=[2,5,3,8,0,9]\n",
    "insertion_sort(a) \n",
    "print(\"Sorted array: \" + str(a))\n",
    "\n"
   ]
  },
  {
   "cell_type": "code",
   "execution_count": 39,
   "metadata": {},
   "outputs": [
    {
     "name": "stdout",
     "output_type": "stream",
     "text": [
      "[0, 2, 3, 5, 8, 9]\n"
     ]
    }
   ],
   "source": [
    "#c) Quick sort\n",
    "\n",
    "def partition(array, start, end):\n",
    "    pivot = array[start]\n",
    "    low = start + 1\n",
    "    high = end\n",
    "\n",
    "    while True:\n",
    "        \n",
    "        \n",
    "        \n",
    "        \n",
    "        \n",
    "        while low <= high and array[high] >= pivot:\n",
    "            high = high - 1\n",
    "\n",
    "        # Opposite process of the one above\n",
    "        while low <= high and array[low] <= pivot:\n",
    "            low = low + 1\n",
    "\n",
    "     \n",
    "        if low <= high:\n",
    "            array[low], array[high] = array[high], array[low]\n",
    "            # The loop continues\n",
    "        else:\n",
    "            # We exit out of the loop\n",
    "            break\n",
    "\n",
    "    array[start], array[high] = array[high], array[start]\n",
    "\n",
    "    return high\n",
    "\n",
    "def quick_sort(array, start, end):\n",
    "    if start >= end:\n",
    "        return\n",
    "\n",
    "    p = partition(array, start, end)\n",
    "    quick_sort(array, start, p-1)\n",
    "    quick_sort(array, p+1, end)\n",
    "\n",
    "array = [2,5,3,8,0,9]\n",
    "quick_sort(array, 0, len(array) - 1)\n",
    "print(array)"
   ]
  },
  {
   "cell_type": "code",
   "execution_count": 40,
   "metadata": {},
   "outputs": [
    {
     "name": "stdout",
     "output_type": "stream",
     "text": [
      "This element is at index: 1\n"
     ]
    }
   ],
   "source": [
    " #e) Linear Search\n",
    "\n",
    "def linear_search(arr, x):\n",
    "    \n",
    "    for i in range(len(arr)):\n",
    "        if arr[i] == x:\n",
    "            return i\n",
    "        \n",
    "arr = [1,10,7,0,-1,3]\n",
    "x = 10\n",
    "print(\"This element is at index:\", linear_search(arr,x))\n",
    "\n"
   ]
  },
  {
   "cell_type": "code",
   "execution_count": 8,
   "metadata": {},
   "outputs": [
    {
     "name": "stdout",
     "output_type": "stream",
     "text": [
      "Searching for 16\n",
      "Index of 16: -1\n"
     ]
    }
   ],
   "source": [
    "#f) Binary search\n",
    "\n",
    "\n",
    "def binary_search( array, x, start, end):\n",
    "    if start > end:\n",
    "        return -1\n",
    "\n",
    "    mid = (start + end) // 2\n",
    "    if x == array[mid]:\n",
    "        return mid\n",
    "\n",
    "    if x < array[mid]:\n",
    "        return binary_search(array, x, start, mid-1)\n",
    "    else:\n",
    "        return binary_search(array, x, mid +1, end)\n",
    "x = 16\n",
    "array = [1, 2, 5, 3, 13, 18, 16]\n",
    "\n",
    "print(\"Searching for {}\".format(x))\n",
    "print(\"Index of {}: {}\".format(x, binary_search(array,x, 0, len(array))))\n",
    "\n"
   ]
  },
  {
   "cell_type": "code",
   "execution_count": 13,
   "metadata": {},
   "outputs": [
    {
     "name": "stdout",
     "output_type": "stream",
     "text": [
      "Searched element: 5\n"
     ]
    }
   ],
   "source": [
    "#g) interpolation search\n",
    "\n",
    "def Interpolation_Search(arr, x):\n",
    "    \n",
    "    low = 0\n",
    "    high = (len(arr) - 1)\n",
    "    \n",
    "    while low <= high and x >= arr[low] and x <= arr[high]:\n",
    "        \n",
    "        index = low + int(((float(high - low) / ( arr[high] - arr[low])) * ( x - arr[low])))\n",
    "        \n",
    "        if arr[index] == x:\n",
    "            return index\n",
    "        if arr[index] < x:\n",
    "            low = index + 1;\n",
    "        else:\n",
    "            high = index - 1;\n",
    "    return -1\n",
    "\n",
    "arr=[1,2,3,4,5,6,7,8]\n",
    "x=6\n",
    "print(\"Searched element:\", Interpolation_Search(arr, x))\n"
   ]
  },
  {
   "cell_type": "code",
   "execution_count": null,
   "metadata": {},
   "outputs": [],
   "source": [
    "#h) Dijkstra’s Algorithm"
   ]
  },
  {
   "cell_type": "code",
   "execution_count": 29,
   "metadata": {},
   "outputs": [
    {
     "name": "stdout",
     "output_type": "stream",
     "text": [
      "Move disk 1 from rod A to rod C\n",
      "Move disk 2 from rod A to rod B\n",
      "Move disk 1 from rod C to rod B\n",
      "Move disk 3 from rod A to rod C\n",
      "Move disk 1 from rod B to rod A\n",
      "Move disk 2 from rod B to rod C\n",
      "Move disk 1 from rod A to rod C\n",
      "Move disk 4 from rod A to rod B\n",
      "Move disk 1 from rod C to rod B\n",
      "Move disk 2 from rod C to rod A\n",
      "Move disk 1 from rod B to rod A\n",
      "Move disk 3 from rod C to rod B\n",
      "Move disk 1 from rod A to rod C\n",
      "Move disk 2 from rod A to rod B\n",
      "Move disk 1 from rod C to rod B\n",
      "Move disk 5 from rod A to rod C\n",
      "Move disk 1 from rod B to rod A\n",
      "Move disk 2 from rod B to rod C\n",
      "Move disk 1 from rod A to rod C\n",
      "Move disk 3 from rod B to rod A\n",
      "Move disk 1 from rod C to rod B\n",
      "Move disk 2 from rod C to rod A\n",
      "Move disk 1 from rod B to rod A\n",
      "Move disk 4 from rod B to rod C\n",
      "Move disk 1 from rod A to rod C\n",
      "Move disk 2 from rod A to rod B\n",
      "Move disk 1 from rod C to rod B\n",
      "Move disk 3 from rod A to rod C\n",
      "Move disk 1 from rod B to rod A\n",
      "Move disk 2 from rod B to rod C\n",
      "Move disk 1 from rod A to rod C\n",
      "Sorted array is:\n",
      "1 2 3 4 5 "
     ]
    }
   ],
   "source": [
    "#i) Tower of Hanoi problem for ‘n’ number of disks.\n",
    "\n",
    "\n",
    "def TowerOfHanoi(n , from_rod, to_rod, aux_rod):\n",
    "    \n",
    "   if n == 1:\n",
    "      print (\"Move disk 1 from rod\",from_rod,\"to rod\",to_rod)\n",
    "      return\n",
    "   TowerOfHanoi(n-1, from_rod, aux_rod, to_rod)\n",
    "   print (\"Move disk\",n,\"from rod\",from_rod,\"to rod\",to_rod)\n",
    "   TowerOfHanoi(n-1, aux_rod, to_rod, from_rod)\n",
    "\n",
    "    \n",
    "n = 5  #number of disks\n",
    "TowerOfHanoi(n, 'A', 'C', 'B') #no. of rod\n",
    "\n",
    "print (\"Sorted array is:\")\n",
    "for i in range(n):\n",
    "   print (arr[i],end=\" \")"
   ]
  }
 ],
 "metadata": {
  "kernelspec": {
   "display_name": "Python 3",
   "language": "python",
   "name": "python3"
  },
  "language_info": {
   "codemirror_mode": {
    "name": "ipython",
    "version": 3
   },
   "file_extension": ".py",
   "mimetype": "text/x-python",
   "name": "python",
   "nbconvert_exporter": "python",
   "pygments_lexer": "ipython3",
   "version": "3.6.4"
  }
 },
 "nbformat": 4,
 "nbformat_minor": 1
}
