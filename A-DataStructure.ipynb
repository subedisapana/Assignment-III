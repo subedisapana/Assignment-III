{
 "cells": [
  {
   "cell_type": "code",
   "execution_count": 18,
   "metadata": {},
   "outputs": [
    {
     "name": "stdout",
     "output_type": "stream",
     "text": [
      "a= [2, 5, 3, 88, 0, 9, 8]\n",
      "sorted_a = [0, 2, 3, 5, 8, 9, 88]\n"
     ]
    }
   ],
   "source": [
    "#a) Bubble Sort\n",
    "\n",
    "def bubblesort(a):\n",
    "    for i in range(len(a)):# from index 0 to 6\n",
    "        for j in range(len(a)-1): #j=0,1,2,3,4,0,1,2,3,0,1,2,0,1\n",
    "            if a[j]> a[j+1]: \n",
    "                a[j], a[j+1] = a[j+1], a[j]  #swap\n",
    "                \n",
    "                \n",
    " \n",
    "a=[2,5,3,88,0,9,8]\n",
    "print(\"a=\", a)\n",
    "bubblesort(a)\n",
    "\n",
    "print (\"sorted_a =\",a)\n",
    "\n",
    " "
   ]
  },
  {
   "cell_type": "code",
   "execution_count": 8,
   "metadata": {},
   "outputs": [
    {
     "name": "stdout",
     "output_type": "stream",
     "text": [
      "Sorted array: [0, 2, 3, 5, 8, 9]\n"
     ]
    }
   ],
   "source": [
    "#b Insertion Sort\n",
    "\n",
    "def insertionsort(a):\n",
    "    \n",
    "    for i in range(len(a)):\n",
    "        value = a[i]\n",
    "        currentindex = i\n",
    "    \n",
    "        while currentindex > 0 and a[currentindex - 1] > value:\n",
    "            a[currentindex] = a[currentindex -1]\n",
    "            currentindex = currentindex - 1\n",
    "            a[currentindex] = value\n",
    "            \n",
    "a=[2,5,3,8,0,9]\n",
    "insertionsort(a) \n",
    "print(\"Sorted array: \" + str(a))\n"
   ]
  },
  {
   "cell_type": "code",
   "execution_count": 9,
   "metadata": {},
   "outputs": [
    {
     "ename": "KeyboardInterrupt",
     "evalue": "",
     "output_type": "error",
     "traceback": [
      "\u001b[1;31m---------------------------------------------------------------------------\u001b[0m",
      "\u001b[1;31mKeyboardInterrupt\u001b[0m                         Traceback (most recent call last)",
      "\u001b[1;32m<ipython-input-9-f5d88e37e246>\u001b[0m in \u001b[0;36m<module>\u001b[1;34m()\u001b[0m\n\u001b[0;32m     38\u001b[0m \u001b[0ma\u001b[0m\u001b[1;33m=\u001b[0m\u001b[1;33m[\u001b[0m\u001b[1;36m2\u001b[0m\u001b[1;33m,\u001b[0m\u001b[1;36m5\u001b[0m\u001b[1;33m,\u001b[0m\u001b[1;36m3\u001b[0m\u001b[1;33m,\u001b[0m\u001b[1;36m8\u001b[0m\u001b[1;33m,\u001b[0m\u001b[1;36m0\u001b[0m\u001b[1;33m,\u001b[0m\u001b[1;36m9\u001b[0m\u001b[1;33m]\u001b[0m\u001b[1;33m\u001b[0m\u001b[0m\n\u001b[0;32m     39\u001b[0m \u001b[1;33m\u001b[0m\u001b[0m\n\u001b[1;32m---> 40\u001b[1;33m \u001b[0mquick_sort\u001b[0m\u001b[1;33m(\u001b[0m\u001b[0ma\u001b[0m\u001b[1;33m,\u001b[0m \u001b[1;36m0\u001b[0m\u001b[1;33m,\u001b[0m \u001b[0mlen\u001b[0m\u001b[1;33m(\u001b[0m\u001b[0ma\u001b[0m\u001b[1;33m)\u001b[0m \u001b[1;33m-\u001b[0m \u001b[1;36m1\u001b[0m\u001b[1;33m)\u001b[0m\u001b[1;33m\u001b[0m\u001b[0m\n\u001b[0m\u001b[0;32m     41\u001b[0m \u001b[0mprint\u001b[0m\u001b[1;33m(\u001b[0m\u001b[0ma\u001b[0m\u001b[1;33m)\u001b[0m\u001b[1;33m\u001b[0m\u001b[0m\n",
      "\u001b[1;32m<ipython-input-9-f5d88e37e246>\u001b[0m in \u001b[0;36mquick_sort\u001b[1;34m(ay, start, end)\u001b[0m\n\u001b[0;32m     32\u001b[0m         \u001b[1;32mreturn\u001b[0m\u001b[1;33m\u001b[0m\u001b[0m\n\u001b[0;32m     33\u001b[0m \u001b[1;33m\u001b[0m\u001b[0m\n\u001b[1;32m---> 34\u001b[1;33m     \u001b[0mp\u001b[0m \u001b[1;33m=\u001b[0m \u001b[0mqrt\u001b[0m\u001b[1;33m(\u001b[0m\u001b[0ma\u001b[0m\u001b[1;33m,\u001b[0m \u001b[0mstart\u001b[0m\u001b[1;33m,\u001b[0m \u001b[0mend\u001b[0m\u001b[1;33m)\u001b[0m\u001b[1;33m\u001b[0m\u001b[0m\n\u001b[0m\u001b[0;32m     35\u001b[0m     \u001b[0mquick_sort\u001b[0m\u001b[1;33m(\u001b[0m\u001b[0ma\u001b[0m\u001b[1;33m,\u001b[0m \u001b[0mstart\u001b[0m\u001b[1;33m,\u001b[0m \u001b[0mp\u001b[0m\u001b[1;33m-\u001b[0m\u001b[1;36m1\u001b[0m\u001b[1;33m)\u001b[0m\u001b[1;33m\u001b[0m\u001b[0m\n\u001b[0;32m     36\u001b[0m     \u001b[0mquick_sort\u001b[0m\u001b[1;33m(\u001b[0m\u001b[0ma\u001b[0m\u001b[1;33m,\u001b[0m \u001b[0mp\u001b[0m\u001b[1;33m+\u001b[0m\u001b[1;36m1\u001b[0m\u001b[1;33m,\u001b[0m \u001b[0mend\u001b[0m\u001b[1;33m)\u001b[0m\u001b[1;33m\u001b[0m\u001b[0m\n",
      "\u001b[1;32m<ipython-input-9-f5d88e37e246>\u001b[0m in \u001b[0;36mqrt\u001b[1;34m(a, start, end)\u001b[0m\n\u001b[0;32m     23\u001b[0m             \u001b[1;32melse\u001b[0m\u001b[1;33m:\u001b[0m\u001b[1;33m\u001b[0m\u001b[0m\n\u001b[0;32m     24\u001b[0m \u001b[1;33m\u001b[0m\u001b[0m\n\u001b[1;32m---> 25\u001b[1;33m                 \u001b[0ma\u001b[0m\u001b[1;33m[\u001b[0m\u001b[0mstart\u001b[0m\u001b[1;33m]\u001b[0m\u001b[1;33m,\u001b[0m \u001b[0ma\u001b[0m\u001b[1;33m[\u001b[0m\u001b[0mhigh\u001b[0m\u001b[1;33m]\u001b[0m \u001b[1;33m=\u001b[0m \u001b[0ma\u001b[0m\u001b[1;33m[\u001b[0m\u001b[0mhigh\u001b[0m\u001b[1;33m]\u001b[0m\u001b[1;33m,\u001b[0m \u001b[0ma\u001b[0m\u001b[1;33m[\u001b[0m\u001b[0mstart\u001b[0m\u001b[1;33m]\u001b[0m\u001b[1;33m\u001b[0m\u001b[0m\n\u001b[0m\u001b[0;32m     26\u001b[0m \u001b[1;33m\u001b[0m\u001b[0m\n\u001b[0;32m     27\u001b[0m     \u001b[1;32mreturn\u001b[0m \u001b[0mhigh\u001b[0m\u001b[1;33m\u001b[0m\u001b[0m\n",
      "\u001b[1;31mKeyboardInterrupt\u001b[0m: "
     ]
    }
   ],
   "source": [
    "#c quick sort\n",
    "\n",
    "def qrt(a, start, end):\n",
    "    \n",
    "    pivot = a[-1] #last element as a pivotal\n",
    "    #high = pivotal-1\n",
    "    #low =  start\n",
    "    \n",
    "    low = start + 1\n",
    "    high = end\n",
    "\n",
    "    \n",
    "    while True:\n",
    "        while low <= high and a[high] >= pivot:\n",
    "            high = high - 1\n",
    "            \n",
    "            while low <= high and a[low] <= pivot:\n",
    "                low = low + 1\n",
    "            \n",
    "            if low <= high:\n",
    "                a[low], array[high] = a[high], a[low]\n",
    "           \n",
    "            else:\n",
    "\n",
    "                a[start], a[high] = a[high], a[start]\n",
    "\n",
    "    return high\n",
    "\n",
    "\n",
    "def quick_sort(ay, start, end):\n",
    "    if start >= end:\n",
    "        return\n",
    "\n",
    "    p = qrt(a, start, end)\n",
    "    quick_sort(a, start, p-1)\n",
    "    quick_sort(a, p+1, end)  \n",
    "    \n",
    "a=[2,5,3,8,0,9]\n",
    "  \n",
    "quick_sort(a, 0, len(a) - 1)\n",
    "print(a)"
   ]
  },
  {
   "cell_type": "code",
   "execution_count": 4,
   "metadata": {},
   "outputs": [
    {
     "ename": "KeyboardInterrupt",
     "evalue": "",
     "output_type": "error",
     "traceback": [
      "\u001b[1;31m---------------------------------------------------------------------------\u001b[0m",
      "\u001b[1;31mKeyboardInterrupt\u001b[0m                         Traceback (most recent call last)",
      "\u001b[1;32m<ipython-input-4-c8eaece7ad0a>\u001b[0m in \u001b[0;36m<module>\u001b[1;34m()\u001b[0m\n\u001b[0;32m     31\u001b[0m \u001b[0marray\u001b[0m \u001b[1;33m=\u001b[0m \u001b[1;33m[\u001b[0m\u001b[1;36m29\u001b[0m\u001b[1;33m,\u001b[0m\u001b[1;36m99\u001b[0m\u001b[1;33m,\u001b[0m\u001b[1;36m27\u001b[0m\u001b[1;33m,\u001b[0m\u001b[1;36m41\u001b[0m\u001b[1;33m,\u001b[0m\u001b[1;36m66\u001b[0m\u001b[1;33m,\u001b[0m\u001b[1;36m28\u001b[0m\u001b[1;33m,\u001b[0m\u001b[1;36m44\u001b[0m\u001b[1;33m,\u001b[0m\u001b[1;36m78\u001b[0m\u001b[1;33m,\u001b[0m\u001b[1;36m87\u001b[0m\u001b[1;33m,\u001b[0m\u001b[1;36m19\u001b[0m\u001b[1;33m,\u001b[0m\u001b[1;36m31\u001b[0m\u001b[1;33m,\u001b[0m\u001b[1;36m76\u001b[0m\u001b[1;33m,\u001b[0m\u001b[1;36m58\u001b[0m\u001b[1;33m,\u001b[0m\u001b[1;36m88\u001b[0m\u001b[1;33m,\u001b[0m\u001b[1;36m83\u001b[0m\u001b[1;33m,\u001b[0m\u001b[1;36m97\u001b[0m\u001b[1;33m,\u001b[0m\u001b[1;36m12\u001b[0m\u001b[1;33m,\u001b[0m\u001b[1;36m21\u001b[0m\u001b[1;33m,\u001b[0m\u001b[1;36m44\u001b[0m\u001b[1;33m]\u001b[0m\u001b[1;33m\u001b[0m\u001b[0m\n\u001b[0;32m     32\u001b[0m \u001b[1;33m\u001b[0m\u001b[0m\n\u001b[1;32m---> 33\u001b[1;33m \u001b[0mquick_sort\u001b[0m\u001b[1;33m(\u001b[0m\u001b[0marray\u001b[0m\u001b[1;33m,\u001b[0m \u001b[1;36m0\u001b[0m\u001b[1;33m,\u001b[0m \u001b[0mlen\u001b[0m\u001b[1;33m(\u001b[0m\u001b[0marray\u001b[0m\u001b[1;33m)\u001b[0m \u001b[1;33m-\u001b[0m \u001b[1;36m1\u001b[0m\u001b[1;33m)\u001b[0m\u001b[1;33m\u001b[0m\u001b[0m\n\u001b[0m\u001b[0;32m     34\u001b[0m \u001b[0mprint\u001b[0m\u001b[1;33m(\u001b[0m\u001b[0marray\u001b[0m\u001b[1;33m)\u001b[0m\u001b[1;33m\u001b[0m\u001b[0m\n",
      "\u001b[1;32m<ipython-input-4-c8eaece7ad0a>\u001b[0m in \u001b[0;36mquick_sort\u001b[1;34m(array, start, end)\u001b[0m\n\u001b[0;32m     25\u001b[0m         \u001b[1;32mreturn\u001b[0m\u001b[1;33m\u001b[0m\u001b[0m\n\u001b[0;32m     26\u001b[0m \u001b[1;33m\u001b[0m\u001b[0m\n\u001b[1;32m---> 27\u001b[1;33m     \u001b[0mp\u001b[0m \u001b[1;33m=\u001b[0m \u001b[0mpartition\u001b[0m\u001b[1;33m(\u001b[0m\u001b[0marray\u001b[0m\u001b[1;33m,\u001b[0m \u001b[0mstart\u001b[0m\u001b[1;33m,\u001b[0m \u001b[0mend\u001b[0m\u001b[1;33m)\u001b[0m\u001b[1;33m\u001b[0m\u001b[0m\n\u001b[0m\u001b[0;32m     28\u001b[0m     \u001b[0mquick_sort\u001b[0m\u001b[1;33m(\u001b[0m\u001b[0marray\u001b[0m\u001b[1;33m,\u001b[0m \u001b[0mstart\u001b[0m\u001b[1;33m,\u001b[0m \u001b[0mp\u001b[0m\u001b[1;33m-\u001b[0m\u001b[1;36m1\u001b[0m\u001b[1;33m)\u001b[0m\u001b[1;33m\u001b[0m\u001b[0m\n\u001b[0;32m     29\u001b[0m     \u001b[0mquick_sort\u001b[0m\u001b[1;33m(\u001b[0m\u001b[0marray\u001b[0m\u001b[1;33m,\u001b[0m \u001b[0mp\u001b[0m\u001b[1;33m+\u001b[0m\u001b[1;36m1\u001b[0m\u001b[1;33m,\u001b[0m \u001b[0mend\u001b[0m\u001b[1;33m)\u001b[0m\u001b[1;33m\u001b[0m\u001b[0m\n",
      "\u001b[1;32m<ipython-input-4-c8eaece7ad0a>\u001b[0m in \u001b[0;36mpartition\u001b[1;34m(array, start, end)\u001b[0m\n\u001b[0;32m     16\u001b[0m         \u001b[1;32melse\u001b[0m\u001b[1;33m:\u001b[0m\u001b[1;33m\u001b[0m\u001b[0m\n\u001b[0;32m     17\u001b[0m \u001b[1;33m\u001b[0m\u001b[0m\n\u001b[1;32m---> 18\u001b[1;33m             \u001b[0marray\u001b[0m\u001b[1;33m[\u001b[0m\u001b[0mstart\u001b[0m\u001b[1;33m]\u001b[0m\u001b[1;33m,\u001b[0m \u001b[0marray\u001b[0m\u001b[1;33m[\u001b[0m\u001b[0mhigh\u001b[0m\u001b[1;33m]\u001b[0m \u001b[1;33m=\u001b[0m \u001b[0marray\u001b[0m\u001b[1;33m[\u001b[0m\u001b[0mhigh\u001b[0m\u001b[1;33m]\u001b[0m\u001b[1;33m,\u001b[0m \u001b[0marray\u001b[0m\u001b[1;33m[\u001b[0m\u001b[0mstart\u001b[0m\u001b[1;33m]\u001b[0m\u001b[1;33m\u001b[0m\u001b[0m\n\u001b[0m\u001b[0;32m     19\u001b[0m \u001b[1;33m\u001b[0m\u001b[0m\n\u001b[0;32m     20\u001b[0m     \u001b[1;32mreturn\u001b[0m \u001b[0mhigh\u001b[0m\u001b[1;33m\u001b[0m\u001b[0m\n",
      "\u001b[1;31mKeyboardInterrupt\u001b[0m: "
     ]
    }
   ],
   "source": [
    "def partition(array, start, end):\n",
    "    pivot = array[start]\n",
    "    low = start + 1\n",
    "    high = end\n",
    "\n",
    "    while True:\n",
    "        while low <= high and array[high] >= pivot:\n",
    "            high = high - 1\n",
    "\n",
    "        while low <= high and array[low] <= pivot:\n",
    "            low = low + 1\n",
    "            \n",
    "            if low <= high:\n",
    "            array[low], array[high] = array[high], array[low]\n",
    "           \n",
    "        else:\n",
    "\n",
    "    array[start], array[high] = array[high], array[start]\n",
    "\n",
    "    return high\n",
    "\n",
    "\n",
    "def quick_sort(array, start, end):\n",
    "    if start >= end:\n",
    "        return\n",
    "\n",
    "    p = partition(array, start, end)\n",
    "    quick_sort(array, start, p-1)\n",
    "    quick_sort(array, p+1, end)\n",
    "    \n",
    "array = [29,99,27,41,66,28,44,78,87,19,31,76,58,88,83,97,12,21,44]\n",
    "\n",
    "quick_sort(array, 0, len(array) - 1)\n",
    "print(array)"
   ]
  },
  {
   "cell_type": "code",
   "execution_count": null,
   "metadata": {},
   "outputs": [],
   "source": [
    "e) Linear Search\n",
    "f) Binary Search\n",
    "g) Interpolation Search\n",
    "h) Dijkstra’s Algorithm\n",
    "i) Tower of Hanoi problem for ‘n’ number"
   ]
  },
  {
   "cell_type": "code",
   "execution_count": 10,
   "metadata": {},
   "outputs": [
    {
     "ename": "SyntaxError",
     "evalue": "invalid syntax (<ipython-input-10-5792572e6914>, line 9)",
     "output_type": "error",
     "traceback": [
      "\u001b[1;36m  File \u001b[1;32m\"<ipython-input-10-5792572e6914>\"\u001b[1;36m, line \u001b[1;32m9\u001b[0m\n\u001b[1;33m    temp[] = [0] * (end - start + 1)\u001b[0m\n\u001b[1;37m         ^\u001b[0m\n\u001b[1;31mSyntaxError\u001b[0m\u001b[1;31m:\u001b[0m invalid syntax\n"
     ]
    }
   ],
   "source": [
    "\n",
    "def merge(Arr, start, mid, end) : #start= 0 index, mid=\n",
    "\n",
    "    # create a temp array\n",
    "    temp[] = [0] * (end - start + 1)\n",
    "\n",
    "    # crawlers for both intervals and for temp\n",
    "    i, j, k = start, mid+1, 0\n",
    "\n",
    "    # traverse both lists and in each iteration add smaller of both elements in temp \n",
    "    while(i <= mid and j <= end) :\n",
    "        if(Arr[i] <= Arr[j]) :\n",
    "            temp[k] = Arr[i]\n",
    "            k += 1; i += 1\n",
    "        else :\n",
    "            temp[k] = Arr[j]\n",
    "            k += 1; j += 1\n",
    "\n",
    "    # add elements left in the first interval \n",
    "    while(i <= mid) \n",
    "        temp[k] = Arr[i]\n",
    "        k += 1; i += 1\n",
    "\n",
    "    # add elements left in the second interval \n",
    "    while(j <= end)\n",
    "        temp[k] = Arr[j]\n",
    "        k += 1; j += 1\n",
    "\n",
    "    # copy temp to original interval\n",
    "    for(i = start; i <= end; i += 1)\n",
    "        Arr[i] = temp[i - start]\n",
    "\n",
    "\n",
    "# Arr is an array of integer type\n",
    "# start and end are the starting and ending index of current interval of Arr\n",
    "\n",
    "def mergeSort(Arr, start, end) {\n",
    "\n",
    "    if(start < end) :\n",
    "        mid = (start + end) / 2\n",
    "        mergeSort(Arr, start, mid)\n",
    "        mergeSort(Arr, mid+1, end)\n",
    "        merge(Arr, start, mid, end)"
   ]
  },
  {
   "cell_type": "code",
   "execution_count": 26,
   "metadata": {},
   "outputs": [
    {
     "name": "stdout",
     "output_type": "stream",
     "text": [
      "This element is at index: 1\n"
     ]
    }
   ],
   "source": [
    "#e) Linear Search\n",
    "\n",
    "def linear_search(arr, x):\n",
    "    \n",
    "    for i in range(len(arr)):\n",
    "        if arr[i] == x:\n",
    "            return i\n",
    "        \n",
    "arr = [1,10,7,0,-1,3]\n",
    "x = 10\n",
    "print(\"This element is at index:\", linear_search(arr,x))\n",
    "\n"
   ]
  },
  {
   "cell_type": "code",
   "execution_count": 47,
   "metadata": {},
   "outputs": [
    {
     "name": "stdout",
     "output_type": "stream",
     "text": [
      "This element is at index: 5\n"
     ]
    }
   ],
   "source": [
    "#f) Binary Search\n",
    "\n",
    "\n",
    "\n"
   ]
  },
  {
   "cell_type": "code",
   "execution_count": 52,
   "metadata": {},
   "outputs": [
    {
     "name": "stdout",
     "output_type": "stream",
     "text": [
      "Searching for 16\n",
      "Index of 16: 6\n"
     ]
    }
   ],
   "source": [
    "def binary_search(array,x, start, end):\n",
    "    if start > end:\n",
    "        return -1\n",
    "\n",
    "    mid = (start + end) // 2\n",
    "    if x == array[mid]:\n",
    "        return mid\n",
    "\n",
    "    if element < array[mid]:\n",
    "        return binary_search(array, x, start, mid-1)\n",
    "    else:\n",
    "        return binary_search(array, x, mid+1, end)\n",
    "x = 16\n",
    "array = [1, 2, 5, 3, 13, 18, 16]\n",
    "\n",
    "print(\"Searching for {}\".format(x))\n",
    "print(\"Index of {}: {}\".format(x, binary_search(array,x, 0, len(array))))\n"
   ]
  },
  {
   "cell_type": "code",
   "execution_count": 54,
   "metadata": {},
   "outputs": [
    {
     "name": "stdout",
     "output_type": "stream",
     "text": [
      "5\n"
     ]
    }
   ],
   "source": [
    "\n",
    "\n",
    "def Interpolation_Search(arr, x):\n",
    "    \n",
    "    low = 0\n",
    "    high = (len(arr) - 1)\n",
    "    \n",
    "    while low <= high and x >= arr[low] and x <= arr[high]:\n",
    "        \n",
    "        index = low + int(((float(high - low) / ( arr[high] - arr[low])) * ( x - arr[low])))\n",
    "        \n",
    "        if arr[index] == x:\n",
    "            return index\n",
    "        if arr[index] < x:\n",
    "            low = index + 1;\n",
    "        else:\n",
    "            high = index - 1;\n",
    "    return -1\n",
    "\n",
    "arr=[1,2,3,4,5,6,7,8]\n",
    "x=6\n",
    "print(Interpolation_Search(arr, x))"
   ]
  },
  {
   "cell_type": "code",
   "execution_count": 56,
   "metadata": {},
   "outputs": [
    {
     "name": "stdout",
     "output_type": "stream",
     "text": [
      "[] [] [4, 3, 2, 1]\n"
     ]
    }
   ],
   "source": [
    "#i) Tower of Hanoi problem for ‘n’ number of disks.\n",
    "\n",
    "def hanoi(n, source, helper, target):\n",
    "    if n > 0:\n",
    "        \n",
    "        hanoi(n - 1, source, target, helper)\n",
    "        if source:\n",
    "            target.append(source.pop())\n",
    "       \n",
    "        hanoi(n - 1, helper, source, target)\n",
    "        \n",
    "source = [4,3,2,1]\n",
    "target = []\n",
    "helper = []\n",
    "hanoi(len(source),source,helper,target)\n",
    "\n",
    "print (source, helper, target)\n"
   ]
  },
  {
   "cell_type": "code",
   "execution_count": 57,
   "metadata": {},
   "outputs": [
    {
     "ename": "SyntaxError",
     "evalue": "invalid syntax (<ipython-input-57-dccc9cf4d160>, line 2)",
     "output_type": "error",
     "traceback": [
      "\u001b[1;36m  File \u001b[1;32m\"<ipython-input-57-dccc9cf4d160>\"\u001b[1;36m, line \u001b[1;32m2\u001b[0m\n\u001b[1;33m    print \"hanoi( \", n, source, helper, target, \" called\"\u001b[0m\n\u001b[1;37m                  ^\u001b[0m\n\u001b[1;31mSyntaxError\u001b[0m\u001b[1;31m:\u001b[0m invalid syntax\n"
     ]
    }
   ],
   "source": [
    "def hanoi(n, source, helper, target):\n",
    "    print \"hanoi( \", n, source, helper, target, \" called\"\n",
    "    if n > 0:\n",
    "        # move tower of size n - 1 to helper:\n",
    "        hanoi(n - 1, source, target, helper)\n",
    "        # move disk from source peg to target peg\n",
    "        if source[0]:\n",
    "            disk = source[0].pop()\n",
    "            print \"moving \" + str(disk) + \" from \" + source[1] + \" to \" + target[1]\n",
    "            target[0].append(disk)\n",
    "        # move tower of size n-1 from helper to target\n",
    "        hanoi(n - 1, helper, source, target)\n",
    "        \n",
    "source = ([4,3,2,1], \"source\")\n",
    "target = ([], \"target\")\n",
    "helper = ([], \"helper\")\n",
    "hanoi(len(source[0]),source,helper,target)\n",
    "\n",
    "print source, helper, target\n",
    "\n",
    "\n"
   ]
  }
 ],
 "metadata": {
  "kernelspec": {
   "display_name": "Python 3",
   "language": "python",
   "name": "python3"
  },
  "language_info": {
   "codemirror_mode": {
    "name": "ipython",
    "version": 3
   },
   "file_extension": ".py",
   "mimetype": "text/x-python",
   "name": "python",
   "nbconvert_exporter": "python",
   "pygments_lexer": "ipython3",
   "version": "3.6.4"
  }
 },
 "nbformat": 4,
 "nbformat_minor": 1
}
